{
 "cells": [
  {
   "cell_type": "markdown",
   "id": "fd73a449-4e71-4f8e-abac-68bd54319363",
   "metadata": {},
   "source": [
    "# **Background Theory**: Avoided Crossing in One Dimensional Asymmetric Quantum Well\n",
    "\n",
    "<i class=\"fa fa-book fa-2x\"></i><a href=\"../asymmetricwell.ipynb\" style=\"font-size: 20px\"> Go back to the interactive notebook</a>\n",
    "\n",
    "**Source code:** https://github.com/osscar-org/quantum-mechanics/blob/master/notebook/quantum-mechanics/theory/theory_asymmetricwell.ipynb\n",
    "\n",
    "<hr style=\"height:1px;border:none;color:#cccccc;background-color:#cccccc;\" />"
   ]
  },
  {
   "cell_type": "markdown",
   "id": "da6eecdc-ea4b-419e-8fc3-5b0ba72c5f55",
   "metadata": {},
   "source": [
    "## **Introduction**\n",
    "\n",
    "In quantum physics and quantum chemistry, an avoided crossing is the phenomenon \n",
    "where two eigenvalues of a Hermitian matrix representing a quantum observable, \n",
    "and depending on N continuous real parameters, cannot become equal in value \n",
    "(\"cross\") except on a manifold of N-2 dimensions. Please read the \n",
    "[Wikipedia page](https://en.wikipedia.org/wiki/Avoided_crossing)\n",
    "on avoided crossing for more information.\n",
    "\n",
    "In this notebook, we solve the Schrödinger equation for a 1D \n",
    "potential. The formula of the potential is:\n",
    "\n",
    "$$\\large V(x) = x^4 - 0.6x^2 + \\mu x$$\n",
    "\n",
    "where, $x$ is the position, and $\\mu$ is the potential parameter \n",
    "(which can be tuned using a slider in the interactive notebook) that determines the asymmetry \n",
    "of the two quantum wells (i.e., the relative \"depth\" of the two quantum wells). "
   ]
  },
  {
   "cell_type": "markdown",
   "id": "c2c9759d-7594-4484-be68-b1422dda2494",
   "metadata": {},
   "source": [
    "<summary style=\"font-size: 20px\">Two-state system</summary>\n",
    "Consider a quantum system which has only two states E$_1$ and E$_2$.\n",
    "It is a good model to study a variety of physical systems. The two-state\n",
    "Hamiltonian H can be formulated in matrix form:\n",
    "    \n",
    "$$H = \\begin{pmatrix} E_1 & 0 \\\\ 0 & E_2 \\end{pmatrix} \\quad (1)$$\n",
    "    \n",
    "When a perturbation is introduced, the Hamiltonian of the perturbed\n",
    "system H' is written as:\n",
    "    \n",
    "$$H' = H + P = \\begin{pmatrix} E_1 & 0 \\\\ 0 & E_2 \\end{pmatrix}\n",
    "+ \\begin{pmatrix} 0 & W \\\\ W^* & 0 \\end{pmatrix}\n",
    "= \\begin{pmatrix} E_1 & W \\\\ W^* & E_2 \\end{pmatrix} \\quad (2)$$\n",
    "    \n",
    "The new eigenvalues are calculated as:\n",
    "    \n",
    "$$E_+ = \\frac{1}{2}(E_1+E_2) + \\frac{1}{2}\\sqrt{(E_1-E_2)^2+4|W|^2} \\quad (4)$$\n",
    "$$E_- = \\frac{1}{2}(E_1+E_2) - \\frac{1}{2}\\sqrt{(E_1-E_2)^2+4|W|^2} \\quad (5)$$\n",
    "    \n",
    "One can see that, by definition, E$_+$ is always bigger than E$_-$.\n",
    "The energy difference $E_+ - E_-$ is $\\sqrt{(E_1-E_2)^2+4|W|^2}$.\n",
    "Hence, the perturbation prevents the two energy states from crossing. However, we stress that the eigenvectors depend on the value of $W$; they will be closer to the $(1,0)$ eigenvector (associated with the $E_1$ eigenvalue of the unperturbed Hamiltonian $H$) or to $(1,0)$ (associated with $E_2$) depending on the value of $W$.\n"
   ]
  }
 ],
 "metadata": {
  "kernelspec": {
   "display_name": "Python 3 (ipykernel)",
   "language": "python",
   "name": "python3"
  },
  "language_info": {
   "codemirror_mode": {
    "name": "ipython",
    "version": 3
   },
   "file_extension": ".py",
   "mimetype": "text/x-python",
   "name": "python",
   "nbconvert_exporter": "python",
   "pygments_lexer": "ipython3",
   "version": "3.11.0"
  }
 },
 "nbformat": 4,
 "nbformat_minor": 5
}
