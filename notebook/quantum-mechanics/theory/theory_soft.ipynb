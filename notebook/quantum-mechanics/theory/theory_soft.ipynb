{
 "cells": [
  {
   "cell_type": "markdown",
   "metadata": {},
   "source": [
    "# **Numerical Solution of 1D Time Dependent Schrödinger Equation by Split Operator Fourier Transform (SOFT) Method**\n",
    "\n",
    "\n",
    "<i class=\"fa fa-book fa-2x\"></i><a href=\"../soft.ipynb\" style=\"font-size: 20px\"> Go back to the interactive notebook</a>\n",
    "\n",
    "**Source code:** https://github.com/osscar-org/quantum-mechanics/blob/master/notebook/quantum-mechanics/theory/theory_soft.ipynb"
   ]
  },
  {
   "cell_type": "markdown",
   "metadata": {},
   "source": [
    "In other notebooks, we focus on numerical solutions of the time-independent\n",
    "Schrödinger equation. Here, we demonstrate the numerical solution of the \n",
    "one-dimensional time dependent Schrödinger equation. The split operator \n",
    "Fourier transform (SOFT) was employed.\n",
    "\n",
    "Let's consider a time-independent Hamiltonian and its associated time-dependent\n",
    "Schrödinger equation for a system of one particle in one dimension.\n",
    "    \n",
    "$$\\large i\\hbar\\frac{d}{dt}|\\psi> = \\hat{H}|\\psi> \\quad \\text{where} \\quad \n",
    "\\hat{H} = \\frac{\\hat{P}^2}{2m} + V(\\hat{X})$$\n",
    "\n",
    "    \n",
    "We know that this equation admits at least a formal solution of the kind\n",
    "$|\\psi(t)> = \\exp\\biggl[-\\frac{i}{\\hbar}\\hat{H}t\\biggr]|\\psi(0)>$\n",
    "that projected on the coordinate basis gives the (still formal) solution\n",
    "$\\psi(X_t,t) = \\int dX_0 K(X_t, t; X_0, 0)\\psi(X_0,0)$\n",
    "where $ K(X_t, t; X_0, 0)= < X_t|\\exp\\biggl[-\\frac{i}{\\hbar}\\hat{H}t\\biggr]|X_0 > $\n",
    "Note that $X_t$ and $X_0$ are just labels for the coordinates, as if we had $X$ and $X'$.\n",
    "\n",
    "$$\\large k(X_t, X_0) =  < X_t|e^{-\\frac{i}{\\hbar}\\hat{H}t} | X_0 > = < X_{N+1} | \\underbrace{e^{-\\frac{i\\hat{H}}{\\hbar}t/N} e^{-\\frac{i\\hat{H}}{\\hbar}t/N} ... e^{-\\frac{i\\hat{H}}{\\hbar}t/N}}_\\textrm{N} |X_0 >$$\n",
    "    \n",
    "Let us then focus on the single step propogator.\n",
    "    \n",
    "$$\\large < X_1 |\\psi(\\epsilon) > = \\psi(X_1,\\epsilon) = \\int dX_0 < X_1 | \n",
    "e^{-\\frac{i}{\\hbar}\\hat{H}\\epsilon} |X_0 > \\psi(X_0,0)$$\n",
    "    \n",
    "We can use the Trotter approximation to write:\n",
    "    \n",
    "$$\\large < X_1 |e^{-\\frac{i}{\\hbar}\\hat{H}\\epsilon}| X_0 > = < X_1 | e^{-\\frac{i}{\\hbar}\n",
    "[\\frac{\\hat{P^2}}{2m}+V(\\hat{X})]\\epsilon} | X_0> \\approx < X_1 | e^{-\\frac{i}\n",
    "{\\hbar}V(\\hat{X})\\epsilon/2}e^{-\\frac{i}{\\hbar}\\frac{\\hat{P^2}}{2m}\\epsilon}e^{-\\frac{i}\n",
    "{\\hbar}V(\\hat{X})\\epsilon/2} | X_0 >$$\n",
    "    \n",
    "$$\\large =e^{-\\frac{i}{\\hbar}V(\\hat{X})\\epsilon /2} \\int dp < X_1 | e^{-\\frac{i}{\\hbar}\\frac{\\hat{P^2}}{2m}\\epsilon} | P > < P | X_0 > e^{ \n",
    "\\frac{i}{\\hbar}V(\\hat{X})\\epsilon/2}$$\n",
    "    \n",
    "where, $< p | X_0 > = \\frac{1}{\\sqrt{2\\pi\\hbar}}e^{-\\frac{i}{\\hbar}PX_0}$.\n",
    "    \n",
    "$$\\large \\psi(X_1,\\epsilon)=e^{-\\frac{1}{\\hbar}V(X_1)\\epsilon/2}\\int \\frac{dP}{\\sqrt{2\\pi\\hbar}}e^{\\frac{i}{\\hbar}PX_1}e^{-\\frac{i}{\\hbar}\\frac{P^2}{2m}\\epsilon}\\underbrace{\\int \\frac{dX_0}{\\sqrt{2\\pi\\hbar}}e^{-\\frac{i}{\\hbar}PX_0}\\underbrace{e^{-\\frac{i}{\\hbar}V(X_0)\\frac{\\epsilon}{2}}\\psi(X_0,0)}_{\\Phi_{\\frac{\\epsilon}{2}}(X_0)}}_{\\tilde{\\Phi}_{\\frac{\\epsilon}{2}}(P)}$$\n",
    "    \n",
    "$$\\large \\psi(X_1,\\epsilon)=e^{-\\frac{1}{\\hbar}V(X_1)\\epsilon/2}\\underbrace{\\int \\frac{dP}{\\sqrt{2\\pi\\hbar}}e^{\\frac{i}{\\hbar}PX_1}\\underbrace{e^{-\\frac{i}{\\hbar}\\frac{P^2}{2m}\\epsilon}\\tilde{\\Phi}_{\\frac{\\epsilon}{2}}(P)}_{\\tilde{\\Phi}(P)}}_{\\tilde{\\Phi}(X_1)}$$, \n",
    "\n",
    "where we recognize $\\tilde{\\Phi}(P)$ as the Fourier transform of $\\Phi(X)$ for instance.\n",
    "    \n",
    "By interating N times, we can obtain $\\psi(X,t)$. In summary, the split operator\n",
    "Fourier transfer algorithm can be reduced into the repeated execution of the five steps shown below:\n",
    "\n",
    "<img src=\"../images/SOFT_algorithm.png\" style=\"height:250px;width:600px\">\n",
    "\n"
   ]
  },
  {
   "cell_type": "markdown",
   "metadata": {},
   "source": []
  }
 ],
 "metadata": {
  "kernelspec": {
   "display_name": "Python 3 (ipykernel)",
   "language": "python",
   "name": "python3"
  },
  "language_info": {
   "codemirror_mode": {
    "name": "ipython",
    "version": 3
   },
   "file_extension": ".py",
   "mimetype": "text/x-python",
   "name": "python",
   "nbconvert_exporter": "python",
   "pygments_lexer": "ipython3",
   "version": "3.10.6"
  },
  "voila": {
   "authors": "Dou Du, Sara Bonella and Giovanni Pizzi"
  }
 },
 "nbformat": 4,
 "nbformat_minor": 4
}
