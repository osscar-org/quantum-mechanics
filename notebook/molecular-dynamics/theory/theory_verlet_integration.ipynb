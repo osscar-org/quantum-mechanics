{
 "cells": [
  {
   "cell_type": "markdown",
   "id": "58948c85-d97d-4492-baef-f25e09ee2b97",
   "metadata": {},
   "source": [
    "# **Background Theory**: Verlet integration\n",
    "\n",
    "<i class=\"fa fa-book fa-2x\"></i><a href=\"../verlet_integration.ipynb\" style=\"font-size: 20px\"> Go back to the interactive notebook</a>\n",
    "\n",
    "**Source code:** https://github.com/osscar-org/quantum-mechanics/blob/master/notebook/molecular-dynamics/theory/theory_verlet_integration.ipynb\n",
    "\n",
    "<hr style=\"height:1px;border:none;color:#cccccc;background-color:#cccccc;\" />"
   ]
  },
  {
   "cell_type": "markdown",
   "id": "c7e4d21e-ed71-4571-bd80-f5e678564e06",
   "metadata": {
    "jp-MarkdownHeadingCollapsed": true,
    "tags": []
   },
   "source": [
    "## **Introduction**\n",
    "\n",
    "In molecular dynamics (MD) simulations, the program needs to compute the evolution of \n",
    "the atoms' coordinates, velocities, and accelerations. The atoms' coordinates contain the information \n",
    "about the structure of the molecular or material system. Trajectory files containing a time series of atomic positions, velocities, and forces are typically outputted from an MD simulation. Researchers can use visualization programs like \n",
    "[Visual Moleuclar Dyanmics](https://www.ks.uiuc.edu/Research/vmd/) to view the evolution \n",
    "of the system and make draw conclusions based on the results. Hence, it is critical \n",
    "to calculate the atoms' position, velocity, and acceleration accurately.\n",
    "\n",
    "In classic molecular dynamics simulations, the molecular motions are computed by \n",
    "solving Newtons equation. A numerical approximation is employed, wherein one treats the \n",
    "velocities of the atoms as constant during a small period $\\Delta t$. Here, we used a two-body \n",
    "system (sun and earth) to demonstrate this numerical method.\n",
    "\n",
    "<details open>\n",
    "<summary style=\"font-size: 20px\"><b>Verlet algorithm</b></summary>\n",
    "Most molecular dynamics programs employ the algorithm adopted\n",
    "by Loup Verlet <a href=\"https://journals.aps.org/pr/abstract/10.1103/PhysRev.159.98\">\n",
    "[Phys. Rev. 159, 98, (1967)]</a>. There are many variants of the Verlet \n",
    "algorithm. One of the most revealing methods is the so-called \n",
    "velocity Verlet algorithm, which was proposed by William C. Swope \n",
    "and Hans C. Andersen <a href=\"https://doi.org/10.1063/1.442716\">\n",
    "[J. Chem. Phys. 76, 637 (1982)]</a>. There are three equations to demonstrate \n",
    "the velocity Verlet algorithm.\n",
    "    \n",
    "$$\\normalsize v(t+\\frac{1}{2} \\Delta t)=v(t)+\\frac{1}{2}\\Delta a(t) \\quad (1)$$\n",
    "$$\\normalsize r(t+\\Delta t)=r(t)+\\Delta tv(t+\\frac{1}{2}\\Delta t) \\quad (2)$$ \n",
    "$$\\normalsize v(t+\\Delta t)=v(t+\\frac{1}{2}\\Delta t)+\\frac{1}{2}\\Delta t a(t+\\Delta t) \\quad (3)$$\n",
    "    \n",
    "Eq. (1) shows that the velocities of the atoms advance half of the time\n",
    "step $\\Delta t$. The new positions of the atoms are updated from previous\n",
    "positions with constant velocities $v(t+\\frac{1}{2}\\Delta t)$ as shown\n",
    "in Eq. (2). The velocities are updated from the middle of the time step\n",
    "$v(t+\\frac{1}{2}\\Delta t)$.\n",
    "\n",
    "In the original implementation of the Verlet algorithm, the positions of\n",
    "the atoms are expressed via the Taylor expansion:\n",
    "    \n",
    "$$\\normalsize r(t+\\Delta t)=r(t) + \\Delta tv(t) + \\frac{1}{2}\\Delta t^2a(t) + \\dots \\quad (4)$$\n",
    "$$\\normalsize r(t-\\Delta t)=r(t) - \\Delta tv(t) + \\frac{1}{2}\\Delta t^2a(t) - \\dots \\quad (5)$$\n",
    "\n",
    "Adding Eq. (4) to Eq. (5):\n",
    "    \n",
    "$$\\normalsize r(t+\\Delta t)=2r(t)-r(t-\\Delta t) + \\Delta t^2a(t) + O(\\Delta t^4)$$\n",
    "    \n",
    "The velocities are not needed to compute the trajectories of the atoms.\n",
    "However, the atomic velocities are useful to estimate the kinetic energy of the system. They\n",
    "can be approximated as:\n",
    "    \n",
    "$$v(t) = \\frac{r(t+\\Delta t)-r(t-\\Delta t)}{2\\Delta t}$$\n",
    "    \n",
    "\n",
    "A more in-depth description of the Verlet time integration scheme is given in \"<a href=\"https://www.elsevier.com/books/understanding-molecular-simulation/frenkel/978-0-12-267351-1\">Understanding molecular simulation: from algorithms to applications (Frenkel, Daan, and Berend Smit., Elsevier, 2001.)</a> \"\n",
    "    </details>\n"
   ]
  }
 ],
 "metadata": {
  "kernelspec": {
   "display_name": "Python 3 (ipykernel)",
   "language": "python",
   "name": "python3"
  },
  "language_info": {
   "codemirror_mode": {
    "name": "ipython",
    "version": 3
   },
   "file_extension": ".py",
   "mimetype": "text/x-python",
   "name": "python",
   "nbconvert_exporter": "python",
   "pygments_lexer": "ipython3",
   "version": "3.10.6"
  }
 },
 "nbformat": 4,
 "nbformat_minor": 5
}
