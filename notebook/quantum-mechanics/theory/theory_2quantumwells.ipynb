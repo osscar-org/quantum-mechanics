{
 "cells": [
  {
   "cell_type": "markdown",
   "id": "009233a8-1059-4902-8117-ef5593e19363",
   "metadata": {},
   "source": [
    "# **Background Theory**: Numerical Solution of the Schrödinger Equation for the Double Square Well Potential\n",
    "\n",
    "<i class=\"fa fa-book fa-2x\"></i><a href=\"../2quantumwells.ipynb\" style=\"font-size: 20px\"> Go back to the interactive notebook</a>\n",
    "\n",
    "**Source code:** https://github.com/osscar-org/quantum-mechanics/blob/master/notebook/quantum-mechanics/theory/theory_2quantumwells.ipynb\n",
    "\n",
    "<hr style=\"height:1px;border:none;color:#cccccc;background-color:#cccccc;\" />"
   ]
  },
  {
   "cell_type": "markdown",
   "id": "d43532bd-ee3e-4296-bd5a-d1e2faa39502",
   "metadata": {},
   "source": [
    "## **Introduction**\n",
    "\n",
    "We implemented a numerical method to solve the Shrödinger equation for the one-dimensional double square well potential in this notebook. The numerical method and its algorithm are explicitly outlined in the  [\"Numerical Solution of the Schrödinger Equation for a One Dimensional Quantum Well\"](../1quantumwell.ipynb) notebook."
   ]
  },
  {
   "cell_type": "markdown",
   "id": "7c2579ec-6b1c-4eef-beec-9a2059fa78aa",
   "metadata": {},
   "source": [
    "## **DSWP model for H$_2$ molecule**\n",
    "\n",
    "The double square well potential model is a simple but efficient way to describe \n",
    "real molecular or material systems. For instance, the DSWP model can be used \n",
    "to describe the H$_2$ molecule.\n",
    "    \n",
    "<div class=\"container\" style=\"text-align: center; width: 350px;\">\n",
    "  <img src=\"../images/DSPW_H2.png\" alt=\"H2 molecule as a DSWP model\" class=\"image\">\n",
    "  <div class=\"overlay\">A symmetric double square well potential to describe an H$_2$ molecule.</div>\n",
    "</div>\n",
    "    \n",
    "In the H$_2$ molecule, there are two identical protons and two electrons.\n",
    "We can simplify the potential as two identical square well potential as\n",
    "shown in the figure above. The two lowest energy eigenstates are indicated in the blue and red\n",
    "lines in the figure. The red line corresponds to the state that has the lowest energy eigenvalue and an associated symmetric wavefunction. While the blue line has the second\n",
    "lowest energy eigenvalue and an antisymmetric wavefunction. One can see the\n",
    "double square well potential model is far from the true potential in \n",
    "the H$_2$ molecule system. However, this simple model gives a roughly\n",
    "correct description of the wavefunctions."
   ]
  },
  {
   "cell_type": "markdown",
   "id": "3d8cf61a-1748-4bef-a278-a2569c11db85",
   "metadata": {},
   "source": [
    "## **DSWP model for ammonia maser**\n",
    "\n",
    "<div class=\"container\" style=\"text-align: center; width: 350px;\">\n",
    "  <img src=\"../images/ammonia-maser.png\" alt=\"H2 molecule as a DSWP model\" class=\"image\">\n",
    "  <div class=\"overlay\">The ammonia maser with the DSWP model.</div>\n",
    "</div>\n",
    "\n",
    "Another example is using the DSWP model to explain the ammonia maser. \n",
    "As shown in the figure above, the nitrogen in the NH$_3$ molecule can \n",
    "oscillate up and down. Consider starting from an initial state, where the nitrogen is \n",
    "localized on the left quantum well. The wavefunction can be formulated \n",
    "as a combination of the two lowest quantum states.\n",
    "    \n",
    "$$\\large |\\psi_L> = |\\psi(t=0)> = \\frac{1}{\\sqrt{2}}[|\\psi_1>+|\\psi_2>]$$\n",
    "\n",
    "The time-resolved state is written as:\n",
    "    \n",
    "$$\\large |\\psi(t)> = \\frac{1}{\\sqrt{2}}\\left[e^{-iE_1t/\\hbar}|\\psi_1> \n",
    "+e^{-iE_2t/\\hbar}|\\psi_2> \\right]$$\n",
    "  \n",
    "$$\\large = \\frac{1}{\\sqrt{2}}e^{-i(E_1 + E_2)t/(2\\hbar)} \n",
    "\\left[e^{i\\Omega t/2}|\\psi_1> + e^{-i\\Omega t/2}|\\psi_2> \\right]$$\n",
    "    \n",
    "where the $\\Omega$ is defined as (assuming real wavefunctions):\n",
    "    \n",
    "$$\\Omega = \\frac{E_2- E_1}{\\hbar}$$\n",
    "\n",
    "Therefore, the probability density is given as:\n",
    "    \n",
    "$$\\large |\\psi(x,t)|^2 = \\frac{1}{2}(|\\psi_1|^2+|\\psi_2|^2) + cos(\\Omega t)<\\psi_1|\\psi_2>$$\n",
    "    \n",
    "At $t=\\frac{\\pi}{\\Omega}$, the wavefunction becomes localized in the\n",
    "right quantum well.\n",
    "    \n",
    "$$\\large |\\psi(x, t=\\frac{\\pi}{\\Omega})|^2 = ||\\psi_R>|^2$$\n",
    "\n",
    "where, $$\\large |\\psi_R> = \\frac{1}{\\sqrt{2}}[|\\psi_1> - |\\psi_2>]$$\n",
    "    \n",
    "In this model, the nitrogen moves from left well to right well and back again\n",
    "with a frequency $f = \\frac{\\Omega}{2\\pi}$. As we already know, the energy\n",
    "difference $E_1 - E_2$ is very small, which leads to a small frequency of\n",
    "the nitrogen inversion. The NH$_3$ molecule emits radiation through this process."
   ]
  },
  {
   "cell_type": "code",
   "execution_count": null,
   "id": "c035396f-0183-4abe-ad6a-b037fc007a63",
   "metadata": {},
   "outputs": [],
   "source": []
  }
 ],
 "metadata": {
  "kernelspec": {
   "display_name": "Python 3 (ipykernel)",
   "language": "python",
   "name": "python3"
  },
  "language_info": {
   "codemirror_mode": {
    "name": "ipython",
    "version": 3
   },
   "file_extension": ".py",
   "mimetype": "text/x-python",
   "name": "python",
   "nbconvert_exporter": "python",
   "pygments_lexer": "ipython3",
   "version": "3.9.12"
  }
 },
 "nbformat": 4,
 "nbformat_minor": 5
}
