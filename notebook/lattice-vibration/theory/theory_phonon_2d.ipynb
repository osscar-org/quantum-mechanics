{
 "cells": [
  {
   "cell_type": "markdown",
   "metadata": {},
   "source": [
    "# **Background theory**: Introduction to phonons\n",
    "<i class=\"fa fa-book fa-2x\"></i><a href=\"../Phonon_2D.ipynb\" style=\"font-size: 20px\"> Go back to the interactive notebook</a>\n",
    "\n",
    "**Source code:** https://github.com/osscar-org/quantum-mechanics/tree/master/notebook/lattice-vibration/theory/theory_phonon_2d.ipynb\n",
    "\n",
    "<hr style=\"height:1px;border:none;color:#cccccc;background-color:#cccccc;\" />"
   ]
  },
  {
   "cell_type": "code",
   "execution_count": 16,
   "metadata": {},
   "outputs": [
    {
     "data": {
      "application/javascript": [
       "MathJax.Hub.Config({\n",
       "    TeX: { equationNumbers: { autoNumber: \"AMS\" } }\n",
       "});\n"
      ],
      "text/plain": [
       "<IPython.core.display.Javascript object>"
      ]
     },
     "metadata": {},
     "output_type": "display_data"
    }
   ],
   "source": [
    "# %%javascript\n",
    "# MathJax.Hub.Config({\n",
    "#     TeX: { equationNumbers: { autoNumber: \"AMS\" } }\n",
    "# });"
   ]
  },
  {
   "cell_type": "markdown",
   "metadata": {},
   "source": [
    "## **Introduction**\n",
    "Please find a description of the notation used in the <i class=\"\"></i><a href=\"theory_phonon_1d.ipynb\"> phonon 1D theory notebook</a>. \n",
    " "
   ]
  },
  {
   "cell_type": "markdown",
   "metadata": {},
   "source": [
    "## **2D monoatomic lattice**\n",
    "$$\\require{cancel}$$\n",
    "In the 2D case, displacements are now 2D vectors :\n",
    "\\begin{equation}\n",
    "    \\vec{u_n}=\n",
    "    \\begin{bmatrix}\n",
    "        u_{nm,x}(t) \\\\\n",
    "        u_{nm,y}(t)\n",
    "    \\end{bmatrix}\n",
    "    =\n",
    "    \\begin{bmatrix}\n",
    "        A_{x}e^{i(\\vec{k}\\cdot\\vec{R_{nm}}-\\omega t)} \\\\\n",
    "        A_{y}e^{i(\\vec{k}\\cdot\\vec{R_{nm}}-\\omega t)}\\\n",
    "    \\end{bmatrix}\n",
    "\\end{equation}\n",
    "with $k=\\begin{bmatrix} k_x\\\\k_y\\end{bmatrix}$ and $R_{nm}=\\begin{bmatrix}n\\cdot a_x\\\\m\\cdot a_y\\end{bmatrix}$.\n",
    "<br>\n",
    "Let $\\vec{h}=\\vec{u}_{n',m'}-\\vec{u}_{nm}$ the vector between two atoms and $\\hat{h}=\\frac{\\vec{h}}{||\\vec{h}||}$.\n",
    "<br>\n",
    "Then the vector dynamical equation is given by:\n",
    "\\begin{equation}\n",
    "    M\\frac{\\partial \\vec{u}_{nm}}{\\partial t}=C\\left[(\\vec{u}_{n',m'}-\\vec{u}_{n,m})\\cdot \\hat{h}\\right]\\hat{h}\n",
    "\\end{equation}\n",
    "and the component dynamical equations are :\n",
    "\\begin{align}\n",
    "    M\\frac{\\partial \\vec{u}_{nm,x}}{\\partial t} & =C\\left[(\\vec{u}_{n',m'}-\\vec{u}_{n,m})\\cdot \\hat{h}\\right](\\hat{h}\\cdot\\vec{x}) \\\\\n",
    "    M\\frac{\\partial \\vec{u}_{nm,y}}{\\partial t} & =C\\left[(\\vec{u}_{n',m'}-\\vec{u}_{n,m})\\cdot \\hat{h}\\right](\\hat{h}\\cdot\\vec{y}).\n",
    "\\end{align}\n",
    "If we now consider all neighbouring atoms, we get:\n",
    "\\begin{align}\n",
    "    M\\frac{\\partial \\vec{u}_{nm}}{\\partial t} & =C_1\\sum_{1^{st} \\text{neigh.}}\\left[(\\vec{u}_{n',m'}-\\vec{u}_{n,m})\\cdot \\hat{h}\\right]\\hat{h}            \\\\\n",
    "                                              & + C_2\\sum_{2^{nd} \\text{neigh.}}\\left[(\\vec{u}_{n',m'}-\\vec{u}_{n,m})\\cdot \\hat{h}\\right]\\hat{h} \\nonumber \\\\\n",
    "                                              & + C_3\\sum_{3^{rd} \\text{neigh.}}\\left[(\\vec{u}_{n',m'}-\\vec{u}_{n,m})\\cdot \\hat{h}\\right]\\hat{h} \\nonumber \\\\\n",
    "                                              & + \\cdots\\nonumber\n",
    "\\end{align}\n",
    "which, when projected onto $x$ and $y$, would give an eigenvalue problem with $\\vec{A_{\\omega}}=\\begin{bmatrix}\n",
    "        A_x \\\\\n",
    "        A_y\n",
    "    \\end{bmatrix}$ the eigenvector of the $\\omega$ eigenvalue."
   ]
  },
  {
   "cell_type": "markdown",
   "metadata": {},
   "source": [
    "## **2D diatomic lattice**\n",
    "Tackling on now the 2D diatomic lattice, the displacement vectors are :\n",
    "\\begin{equation}\n",
    "    \\vec{u_n}=\n",
    "    \\begin{bmatrix}\n",
    "        u_{nm,x}(t) \\\\\n",
    "        u_{nm,y}(t)\n",
    "    \\end{bmatrix}\n",
    "    =\n",
    "    \\begin{bmatrix}\n",
    "        A_{1,x}e^{i(\\vec{k}\\cdot\\vec{R_{nm}^{(1)}}-\\omega t)} \\\\\n",
    "        A_{1,y}e^{i(\\vec{k}\\cdot\\vec{R_{nm}^{(1)}}-\\omega t)}\\\n",
    "    \\end{bmatrix}, \\quad\n",
    "    \\vec{v_n}=\n",
    "    \\begin{bmatrix}\n",
    "        v_{nm,x}(t) \\\\\n",
    "        v_{nm,y}(t)\n",
    "    \\end{bmatrix}\n",
    "    =\n",
    "    \\begin{bmatrix}\n",
    "        A_{2,x}e^{i(\\vec{k}\\cdot\\vec{R_{nm}^{(2)}}-\\omega t)} \\\\\n",
    "        A_{2,y}e^{i(\\vec{k}\\cdot\\vec{R_{nm}^{(2)}}-\\omega t)}\\\n",
    "    \\end{bmatrix}\n",
    "\\end{equation}\n",
    "with $R_{nm}^{(1)}=\\begin{bmatrix}n\\cdot a_x\\\\m\\cdot a_y\\end{bmatrix}$ and $R_{nm}^{(2)}=\\begin{bmatrix}n\\cdot a_x+c\\cdot a_x\\\\m\\cdot a_y +d\\cdot a_y\\end{bmatrix}$ where $c=1$, $d=0$ for the honeycomb lattice.<br>\n",
    "The vector dynamical equation is given by:\n",
    "\\begin{equation}\n",
    "    M\\frac{\\partial \\vec{u}_{nm}}{\\partial t}=C\\left[(\\vec{v}_{n',m'}-\\vec{u}_{n,m})\\cdot \\hat{h}\\right]\\hat{h}\n",
    "\\end{equation}\n",
    "but now, $\\vec{v}_{n',m'}$ could as well be $\\vec{u}_{n',m'}$ depending on whether the neighbouring atom is of the same kind or not. For notational simplicity, we will consider that the neighboring atom is of different kind.\n",
    "<br>\n",
    "Considering all neighboring atoms, we would now get:\n",
    "\\begin{align}\n",
    "    M\\frac{\\partial \\vec{u}_{nm}}{\\partial t} & =C_1\\sum_{1^{st} \\text{neigh.}}\\left[(\\vec{v}_{n',m'}-\\vec{u}_{n,m})\\cdot \\hat{h}\\right]\\hat{h}            \\\\\n",
    "                                              & + C_2\\sum_{2^{nd} \\text{neigh.}}\\left[(\\vec{v}_{n',m'}-\\vec{u}_{n,m})\\cdot \\hat{h}\\right]\\hat{h} \\nonumber \\\\\n",
    "                                              & + C_3\\sum_{3^{rd} \\text{neigh.}}\\left[(\\vec{v}_{n',m'}-\\vec{u}_{n,m})\\cdot \\hat{h}\\right]\\hat{h} \\nonumber \\\\\n",
    "                                              & + \\cdots\\nonumber\n",
    "\\end{align}\n",
    "and\n",
    "\\begin{align}\n",
    "    M\\frac{\\partial \\vec{v}_{nm}}{\\partial t} & =C_1\\sum_{1^{st} \\text{neigh.}}\\left[(\\vec{u}_{n',m'}-\\vec{v}_{n,m})\\cdot \\hat{h}\\right]\\hat{h}            \\\\\n",
    "                                              & + C_2\\sum_{2^{nd} \\text{neigh.}}\\left[(\\vec{u}_{n',m'}-\\vec{v}_{n,m})\\cdot \\hat{h}\\right]\\hat{h} \\nonumber \\\\\n",
    "                                              & + C_3\\sum_{3^{rd} \\text{neigh.}}\\left[(\\vec{u}_{n',m'}-\\vec{v}_{n,m})\\cdot \\hat{h}\\right]\\hat{h} \\nonumber \\\\\n",
    "                                              & + \\cdots\\nonumber\n",
    "\\end{align}\n",
    "from which both expression can be projected on $x$ and $y$ to get a 4-dimensional eigenvalue problem with $A_w=\\begin{pmatrix}A_{1,x}\\\\A_{1,y}\\\\A_{2,x}\\\\A_{2,y}\\end{pmatrix}$ the eigenvector."
   ]
  },
  {
   "cell_type": "markdown",
   "metadata": {},
   "source": [
    "### **Further references**\n",
    "G. Grosso and G. Pastori Parravicini, Solid state physics, Second edition. Amsterdam: Academic Press, an imprint of Elsevier, 2014.\n"
   ]
  }
 ],
 "metadata": {
  "celltoolbar": "Aucun(e)",
  "hide_input": false,
  "kernelspec": {
   "display_name": "Python 3 (ipykernel)",
   "language": "python",
   "name": "python3"
  },
  "language_info": {
   "codemirror_mode": {
    "name": "ipython",
    "version": 3
   },
   "file_extension": ".py",
   "mimetype": "text/x-python",
   "name": "python",
   "nbconvert_exporter": "python",
   "pygments_lexer": "ipython3",
   "version": "3.10.12"
  },
  "vscode": {
   "interpreter": {
    "hash": "e4cce46d6be9934fbd27f9ca0432556941ea5bdf741d4f4d64c6cd7f8dfa8fba"
   }
  }
 },
 "nbformat": 4,
 "nbformat_minor": 4
}
