{
 "cells": [
  {
   "cell_type": "markdown",
   "metadata": {
    "tags": []
   },
   "source": [
    "# **Quantum Mechanics and Computational Materials Science**\n",
    "\n",
    "<hr style=\"height:1px;border:none;color:#cccccc;background-color:#cccccc;\" />"
   ]
  },
  {
   "cell_type": "markdown",
   "metadata": {
    "tags": []
   },
   "source": [
    "## Section 1: **Quantum Mechanics**\n",
    "\n",
    "<ol style=\"font-size:18px\">\n",
    "    <li><a href=\"./quantum-mechanics/1quantumwell.ipynb\">Numerical Solution of the Schrödinger Equation for 1D Quantum Well</a></li>\n",
    "    <li><a href=\"./quantum-mechanics/2quantumwells.ipynb\">Numerical Solution of the Schrödinger Equation for the Double Square Well Potential</a></li>\n",
    "    <li><a href=\"./quantum-mechanics/asymmetricwell.ipynb\">Avoided Crossing in 1D Asymmetric Quantum Well</a></li>\n",
    "    <li><a href=\"./quantum-mechanics/shooting_method.ipynb\">Shooting Method with Numerov Algorithm to Solve the Time Independent Schrödinger Equation for 1D Quantum Well</a></li>\n",
    "    <li><a href=\"./quantum-mechanics/soft.ipynb\">Numerical Solution of 1D Time-Dependent Schrödinger Equation by Split Operator Fourier Transform (SOFT) Method</a></li>\n",
    "      <li><a href=\"./quantum-mechanics/msoft.ipynb\">Numerical Solution of 1D Time-Dependent Schrödinger Equation For Nuclear Evolution On Multiple Electronic Potential Energy Surfaces Via The Multiple Split Operator Fourier Transform (MSOFT) Method.</a></li>\n",
    "</ol>"
   ]
  },
  {
   "attachments": {},
   "cell_type": "markdown",
   "metadata": {},
   "source": [
    "## Section 2: **Band Theory of Crystals**\n",
    "\n",
    "<ol style=\"font-size:18px\">\n",
    "    <li><a href=\"./band-theory/FFT_and_planewaves.ipynb\">Fourier Transforms and Plane-Wave Expansions</a></li>\n",
    "    <li><a href=\"./band-theory/brillouin_zone.ipynb\">Brillouin Zone</a></li>\n",
    "    <li><a href=\"./band-theory/free_electron.ipynb\">Free-Electron Bandstructure</a></li>\n",
    "    <li><a href=\"./band-theory/density_of_states.ipynb\">Density of States</a></li>\n",
    "    <li><a href=\"./band-theory/pseudopotential.ipynb\">Norm-conserving Pseudopotentials</a></li>\n",
    "</ol>"
   ]
  },
  {
   "cell_type": "markdown",
   "metadata": {},
   "source": [
    "## Section 3: **Molecule and Lattice Vibration**\n",
    "\n",
    "<ol style=\"font-size:18px\">\n",
    "    <li><a href=\"./lattice-vibration/Phonon_1D.ipynb\">Phonon 1D</a></li>\n",
    "    <li><a href=\"./lattice-vibration/Phonon_2D.ipynb\">Phonon 2D</a></li>\n",
    "    <li><a href=\"./lattice-vibration/Molecule_Vibration.ipynb\">Molecule Vibration</a></li>\n",
    "</ol>"
   ]
  },
  {
   "cell_type": "markdown",
   "metadata": {},
   "source": [
    "## Section 4: **Molecular Dynamics**\n",
    "\n",
    "<ol style=\"font-size:18px\">\n",
    "    <li><a href=\"./molecular-dynamics/verlet_integration.ipynb\">Verlet Integration</a></li>\n",
    "</ol>"
   ]
  },
  {
   "cell_type": "markdown",
   "metadata": {},
   "source": [
    "## Section 5: **Statistical Mechanics**\n",
    "\n",
    "<ol style=\"font-size:18px\">\n",
    "    <li><a href=\"./statistical-mechanics/monte_carlo_parabolic.ipynb\">Monte Carlo Simulation to Obtain Global Minimum</a></li>\n",
    "    <li><a href=\"./statistical-mechanics/monte_carlo_pi.ipynb\">Monte Carlo Calculation of Pi</a></li>\n",
    "    <li><a href=\"./statistical-mechanics/ising_model.ipynb\">Ising Model in 2D</a></li>\n",
    "    <li><a href=\"./statistical-mechanics/diffusion_2d.ipynb\">Random Diffusion in 2D</a></li>\n",
    "</ol>"
   ]
  },
  {
   "cell_type": "code",
   "execution_count": null,
   "metadata": {},
   "outputs": [],
   "source": []
  }
 ],
 "metadata": {
  "kernelspec": {
   "display_name": "generic",
   "language": "python",
   "name": "python3"
  },
  "language_info": {
   "codemirror_mode": {
    "name": "ipython",
    "version": 3
   },
   "file_extension": ".py",
   "mimetype": "text/x-python",
   "name": "python",
   "nbconvert_exporter": "python",
   "pygments_lexer": "ipython3",
   "version": "3.8.11 (default, Jun 29 2021, 03:08:07) \n[Clang 12.0.5 (clang-1205.0.22.9)]"
  },
  "vscode": {
   "interpreter": {
    "hash": "da71daf810f7834c84ca9381d19e3c3539ad4eec87cbcc923fcc5d886a327a80"
   }
  }
 },
 "nbformat": 4,
 "nbformat_minor": 4
}
