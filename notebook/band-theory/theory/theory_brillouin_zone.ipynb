{
 "cells": [
  {
   "cell_type": "markdown",
   "id": "4d845497-667a-407a-8d9e-6a07305d2b49",
   "metadata": {},
   "source": [
    "# **Background Theory**: Reciprocal Space and Brillouin Zone\n",
    "\n",
    "<i class=\"fa fa-book fa-2x\"></i><a href=\"../brillouin_zone.ipynb\" style=\"font-size: 20px\"> Go back to the interactive notebook</a>\n",
    "\n",
    "**Source code:** https://github.com/osscar-org/quantum-mechanics/blob/master/notebook/band-theory/theory/theory_brillouin_zone.ipynb\n",
    "\n",
    "<hr style=\"height:1px;border:none;color:#cccccc;background-color:#cccccc;\" />"
   ]
  },
  {
   "cell_type": "markdown",
   "id": "27e1debb-3a64-48d1-93e8-fcb63272276a",
   "metadata": {},
   "source": [
    "## **Introduction**\n",
    "\n",
    "The concept of the reciprocal space and the reciprocal lattice was first introduced by [Paul Peter Ewald](https://en.wikipedia.org/wiki/Paul_Peter_Ewald) (German crystallographer and physicist) in 1921 [[Annalen der Physik, 369, 3, 253 (1921)]](https://onlinelibrary.wiley.com/doi/10.1002/andp.19213690304). The concept is invaluable, for example, when one is trying to interpret X-ray diffraction patterns. It is also one of the core conceptual tools employed in solid state physics.\n",
    "\n",
    "The Wigner–Seitz construction is a method to build the primitive cell in real space. Its counterpart in reciprocal space (i.e. transformation of the Wigner-Seitz cell to reciprocal space) is called the 1st Brillouin zone."
   ]
  },
  {
   "cell_type": "markdown",
   "id": "116a358b-b048-447f-bbe8-620465347c67",
   "metadata": {},
   "source": [
    "## **Reciprocal space and reciprocal lattice**\n",
    "\n",
    "Let's define $\\vec{a}_1$, $\\vec{a}_2$ and $\\vec{a}_3$ as a set of primitive vectors describing the real-space lattice. The lattice vector $\\vec{R}_l$ can be written as:\n",
    "\n",
    "$$\\vec{R}_l = (l_1\\vec{a}_1 + l_2\\vec{a}_2 + l_3\\vec{a}_3)$$\n",
    "\n",
    "The volume of the lattice cell is computed as:\n",
    "\n",
    "$$\\Omega = \\vec{a}_1 \\cdot (\\vec{a}_2 \\times \\vec{a}_3)$$\n",
    "\n",
    "Now, let's define another set of primitive vectors, $\\vec{b}_1$, $\\vec{b}_2$ and $\\vec{b}_3$ which satisfy the relationship\n",
    "\n",
    "$$\\vec{a}_i \\cdot \\vec{b}_j = 2\\pi \\delta_{ij} $$\n",
    "\n",
    "Here, $\\delta_{ij}$ is the Dirac delta function, which equals to 1 when $i=j$ and equals\n",
    "to 0 when $i \\neq j$. Such as set of vectors $\\{\\vec{b}_1$, $\\vec{b}_2$, $\\vec{b}_3\\}$ are referred to as the reciprocal lattice vectors corresponding to $\\{\\vec{a}_1, \\vec{a}_2,\\vec{a}_3\\}$. The reciprocal lattice vectors can be explicitly constructed as:\n",
    "\n",
    "$$\\vec{b}_1 = 2\\pi \\frac{\\vec{a}_2 \\times \\vec{a}_3}{\\vec{a}_1 (\\vec{a}_2 \\times \\vec{a}_3)}$$\n",
    "$$\\vec{b}_2 = 2\\pi \\frac{\\vec{a}_3 \\times \\vec{a}_1}{\\vec{a}_1 (\\vec{a}_2 \\times \\vec{a}_3)}$$\n",
    "$$\\vec{b}_3 = 2\\pi \\frac{\\vec{a}_1 \\times \\vec{a}_2}{\\vec{a}_1 (\\vec{a}_2 \\times \\vec{a}_3)}$$"
   ]
  },
  {
   "cell_type": "markdown",
   "id": "34a6e123-edbb-49f6-b059-880d4e8a2e6b",
   "metadata": {},
   "source": [
    "## **Wigner–Seitz cell**\n",
    "\n",
    "For soild-state systems, there are many ways to construct the primitive cell\n",
    "according to the symmetry of the lattice.\n",
    "The most common method is called the Wigner-Seitz construction, which is named after two physicists [Eugene Wigner](https://en.wikipedia.org/wiki/Eugene_Wigner) and \n",
    "[Frederick Seitz](https://en.wikipedia.org/wiki/Frederick_Seitz).\n",
    "The Wigner-Seitz cell is defined as the locus of point in real space which are closer to a given point on the crystalline lattice than any of the other lattice points.\n",
    "\n",
    "For a 2D lattice (as shown in Figure 1), the Wigner-Seitz cell can be produced via the following steps. First, connect one random lattice point to all its nearest \n",
    "neighbor lattice points (the blue lines). Then bisect each blue line with another line (the red line). The smallest polyhedron formed in this way is the boundary of the Wigner-Seitz cell. An animination perorming this construction\n",
    "is illustrated in the right of Figure 1. We can use the same method to construct the Wigner-Seitz cell for a three dimensional lattice.\n",
    "\n",
    "<div style=\"text-align:center\">\n",
    "    <img src=\"../images/Wigner-Seitz-2D.png\" alt=\"drawing\" style=\"width:200px;\"/>\n",
    "    <img src=\"../images/Wigner-Seitz.gif\" alt=\"drawing\" style=\"width:300px;\"/>\n",
    "    <figcaption>Figure 1. Demonstration of the construction of the Wigner-Seitz cell in a two \n",
    "        dimensional system. Figure and animination are adpoted from \n",
    "        <a href=\"https://en.wikipedia.org/wiki/Wigner%E2%80%93Seitz_cell\">Wikipedia</a>.</figcaption>\n",
    "</div>"
   ]
  },
  {
   "cell_type": "markdown",
   "id": "063fc9e5-aa46-4de9-a032-3866c60e2771",
   "metadata": {},
   "source": [
    "## **Brillouin zone**\n",
    "\n",
    "The concept of a Brillouin zone was first developed by French physicist \n",
    "[Léon Brillouin](https://en.wikipedia.org/wiki/L%C3%A9on_Brillouin).\n",
    "The 1st Brillouin zone is the Wigner-Seitz primitive cell in the **reciprocal lattice**.\n",
    "As shown in Figure 2, the pink area shows the 1st Brillouin zone. The second Brillouin zone\n",
    "is constructed by drawing perpendicular bisectors of the group of reciprocal lattice vectors connecting to the second \n",
    "nearest neighbour lattice points. The region corresponding to the second Brillouin zone is the polyhedron with the \n",
    "area of the 1st Brillouin zone removed; this is the yellow area in the Figure 2. The green and red areas together constitute the 3rd Brillouin zone.\n",
    "\n",
    "<div style=\"text-align:center\">\n",
    "    <img src=\"../images/Brillouin-zone.png\" alt=\"drawing\" style=\"width:250px;\"/>\n",
    "    <figcaption>Figure 2. Demonstration of the construction of the 1st, 2nd and 3rd \n",
    "                Brillouin zones for a two-dimensional lattice.</figcaption>\n",
    "</div>"
   ]
  },
  {
   "cell_type": "code",
   "execution_count": null,
   "id": "55274d14-7b50-4d18-9725-dfafe46cdce8",
   "metadata": {},
   "outputs": [],
   "source": []
  }
 ],
 "metadata": {
  "kernelspec": {
   "display_name": "Python 3 (ipykernel)",
   "language": "python",
   "name": "python3"
  },
  "language_info": {
   "codemirror_mode": {
    "name": "ipython",
    "version": 3
   },
   "file_extension": ".py",
   "mimetype": "text/x-python",
   "name": "python",
   "nbconvert_exporter": "python",
   "pygments_lexer": "ipython3",
   "version": "3.10.12"
  }
 },
 "nbformat": 4,
 "nbformat_minor": 5
}
