{
 "cells": [
  {
   "cell_type": "markdown",
   "metadata": {},
   "source": [
    "# **Background theory**: Introduction to phonons\n",
    "<i class=\"fa fa-book fa-2x\"></i><a href=\"../Phonon_1D.ipynb\" style=\"font-size: 20px\"> Go back to the interactive notebook</a>\n",
    "\n",
    "**Source code:** https://github.com/osscar-org/quantum-mechanics/tree/master/notebook/lattice-vibration/theory/theory_phonon_1d.ipynb\n",
    "\n",
    "<hr style=\"height:1px;border:none;color:#cccccc;background-color:#cccccc;\" />"
   ]
  },
  {
   "cell_type": "code",
   "execution_count": 16,
   "metadata": {},
   "outputs": [
    {
     "data": {
      "application/javascript": [
       "MathJax.Hub.Config({\n",
       "    TeX: { equationNumbers: { autoNumber: \"AMS\" } }\n",
       "});\n"
      ],
      "text/plain": [
       "<IPython.core.display.Javascript object>"
      ]
     },
     "metadata": {},
     "output_type": "display_data"
    }
   ],
   "source": [
    "%%javascript\n",
    "MathJax.Hub.Config({\n",
    "    TeX: { equationNumbers: { autoNumber: \"AMS\" } }\n",
    "});"
   ]
  },
  {
   "cell_type": "markdown",
   "metadata": {},
   "source": [
    "## **Introduction**\n",
    "Phonons are a quantum mechanical description of elemental vibrations in the solid. Like photons are quantized light waves, phonons can be thought of quantized sound waves. Arising from the elastic arrangement of atoms, phonons play an important role in the study of thermal and electrical properties of materials. They describe the vibrational motion of a lattice of atoms oscillating at a single frequency, analogous to normal modes in classical mechanics. Any lattice vibrations can then be described as a superposition of those normal modes.\n",
    " "
   ]
  },
  {
   "cell_type": "markdown",
   "metadata": {},
   "source": [
    "## **1D monoatomic chain**\n",
    "$$\\require{cancel}$$\n",
    "Let's now consider the case of a 1D monoatomic chain in which only the first neighbours interactions are considered. Let $R_n=na$ be the position of atom $n$, $R_{n+1}=(n+1)a$ the position of atom $n+1$, etc., as shown in Fig. 1. The classical equation of motion of the $n$-th atom of mass $M$ in position $R_n+u_n(t)$ under the force $F_n$ is:\n",
    "\\begin{equation}\n",
    "    M\\ddot u_n = -C_1(u_{n-1}-u_{n})-C_1(u_{n+1}-u_n)=-C_1(2u_n-u_{n-1}-u_{n+1})\n",
    "    \\label{eq:1d_eq}\n",
    "\\end{equation}\n",
    "where $n-1$ and $n+1$ are the two neighbouring atoms and $C_1$ the force constant between neighbours.<br>\n",
    "Solutions of the differential equation are in the form of traveling wave, periodic in space and time, of the type :\n",
    "\\begin{equation}\n",
    "    u_n(t)=Ae^{i(k\\cdot R_n-\\omega t)}\n",
    "    \\label{eq:u_1d}\n",
    "\\end{equation}\n",
    "where $A$ is the amplitude of the displacement, $k$ is the phonon wave vector and $\\omega$ its frequency.<br>\n",
    "Plugging Eq.\\eqref{eq:u_1d} into Eq.\\eqref{eq:1d_eq} results in\n",
    "$$\n",
    "\\begin{align}\n",
    "    -M \\omega^2 \\cancel{e^{ikn}}\\cancel{e^{-i\\omega t}} & =-C_1(2\\cancel{e^{ikn}}\\cancel{e^{-i\\omega t}}-\\cancel{e^{ikn}}\\cancel{e^{-i\\omega t}}e^{-ika}-\\cancel{e^{ikn}}\\cancel{e^{-i\\omega t}}e^{ika})\\nonumber \\\\\n",
    "    M \\omega^2                                          & =-C_1(2-e^{-ika}-e^{ika}).\n",
    "    \\label{eq:1d_final}\n",
    "\\end{align}\n",
    "$$\n",
    "Eq. \\eqref{eq:1d_final} gives us a direct relation between $\\omega$ and $k$, which is called the dispersion relation."
   ]
  },
  {
   "cell_type": "code",
   "execution_count": 37,
   "metadata": {},
   "outputs": [
    {
     "data": {
      "text/html": [
       "<img src=\"images/theory_phonon_1d_schematic.png\" style=\"margin:auto; width:40%\"/>\n",
       "<p style=\"text-align: center\">\n",
       "    Figure 1: Schematic of the 1D monoatomic chain.\n",
       "</p>\n"
      ],
      "text/plain": [
       "<IPython.core.display.HTML object>"
      ]
     },
     "metadata": {},
     "output_type": "display_data"
    }
   ],
   "source": [
    "%%html\n",
    "<img src=\"images/theory_phonon_1d_schematic.png\" style=\"margin:auto; width:50%\"/>\n",
    "<p style=\"text-align: center\">\n",
    "    Figure 1: Schematic of the 1D monoatomic chain.\n",
    "</p>"
   ]
  },
  {
   "cell_type": "markdown",
   "metadata": {},
   "source": [
    "## **1D diatomic chain**\n",
    "Let us now consider the case in which two atoms site in the unit cell, with mass $M_1$ and $M_2$. The positions are given by $R_n^{(1)}=na$ and $R_n^{(2)}=na+\\frac{1}{2}a$. $u$ is the displacement of atom 1 and $v$ is the displacement of atom 2. The system of equations is then\n",
    "\\begin{align}\n",
    "    M_1\\ddot u_n & =-C_1(2u_n-v_{n-1}-v_{n+1})\\label{eq:1} \\\\\n",
    "    M_2\\ddot v_n & =-C_1(2v_n-u_{n-1}-u_{n+1})\\label{eq:2}\n",
    "\\end{align}\n",
    "The solution of such system is given by\n",
    "\\begin{equation}\n",
    "    u_n(t)=A_1e^{i(k\\cdot R_n^{(1)}-\\omega t)}\\qquad \\text{and}\\qquad  v_n(t)=A_2e^{i(k\\cdot R_n^{(2)}-\\omega t)}\n",
    "    \\label{eq:3}\n",
    "\\end{equation}\n",
    "Replacing Eq.\\eqref{eq:3} into Eq.\\eqref{eq:1} and Eq.\\eqref{eq:2} gives :\n",
    "\\begin{align}\n",
    "     & -M_{1} \\omega^{2} A_{1}=-C\\left(2 A_{1}-A_{2} e^{-i k a / 2}-A_{2} e^{i k a / 2}\\right) \\\\\n",
    "     & -M_{2} \\omega^{2} A_{2}=-C\\left(2 A_{2}-A_{1} e^{-i k a / 2}-A_{1} e^{i k a / 2}\\right)\n",
    "\\end{align}\n",
    "which is equal to solving the eigenvalue problem :\n",
    "\\begin{equation}\n",
    "    \\mathbf{C}\\vec{A}=\\omega^2 \\vec{A}\n",
    "\\end{equation}\n",
    "where $\\vec{A_\\omega}=\\begin{bmatrix}A_1\\\\A_2\\end{bmatrix}$. $\\vec{A_\\omega}$ is the eigenvector corresponding to the eigenvalue $\\omega$."
   ]
  },
  {
   "cell_type": "markdown",
   "metadata": {},
   "source": [
    "### **Further references**\n",
    "G. Grosso and G. Pastori Parravicini, Solid state physics, Second edition. Amsterdam: Academic Press, an imprint of Elsevier, 2014.\n"
   ]
  }
 ],
 "metadata": {
  "celltoolbar": "Aucun(e)",
  "hide_input": false,
  "kernelspec": {
   "display_name": "Python 3 (ipykernel)",
   "language": "python",
   "name": "python3"
  },
  "language_info": {
   "codemirror_mode": {
    "name": "ipython",
    "version": 3
   },
   "file_extension": ".py",
   "mimetype": "text/x-python",
   "name": "python",
   "nbconvert_exporter": "python",
   "pygments_lexer": "ipython3",
   "version": "3.10.12"
  },
  "vscode": {
   "interpreter": {
    "hash": "e4cce46d6be9934fbd27f9ca0432556941ea5bdf741d4f4d64c6cd7f8dfa8fba"
   }
  }
 },
 "nbformat": 4,
 "nbformat_minor": 4
}
