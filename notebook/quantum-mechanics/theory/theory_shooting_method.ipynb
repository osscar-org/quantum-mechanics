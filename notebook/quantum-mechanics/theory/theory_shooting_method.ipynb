{
 "cells": [
  {
   "cell_type": "markdown",
   "id": "bec50683-b438-443d-adcf-cd18fbffc0d8",
   "metadata": {},
   "source": [
    "# **Background Theory**:Using the Shooting Method to Solve the Time-Independent Schrödinger Equation for a 1D Quantum Well\n",
    "\n",
    "<i class=\"fa fa-book fa-2x\"></i><a href=\"../shooting_method.ipynb\" style=\"font-size: 20px\"> Go back to the interactive notebook</a>\n",
    "\n",
    "**Source code:** https://github.com/osscar-org/quantum-mechanics/blob/master/notebook/quantum-mechanics/theory/theory_shooting_method.ipynb\n",
    "\n",
    "<hr style=\"height:1px;border:none;color:#cccccc;background-color:#cccccc;\" />"
   ]
  },
  {
   "cell_type": "markdown",
   "id": "ae07c1b8-3889-46f3-83cb-f7d92660c627",
   "metadata": {},
   "source": [
    "\n",
    "# **Shooting method**\n",
    "    \n",
    "<p style=\"text-align: justify;font-size:15px\"> \n",
    "    In numerical analysis, the shooting method is a method for solving a boundary value problem by reformulating it as an initial value problem. Roughly speaking, we 'shoot' out trajectories in different directions from an initial trial value until we find a trajectory that has the desired boundary value. You can check out the following link for additional information on the method\n",
    "<a href=\"https://en.wikipedia.org/wiki/Shooting_method\">https://en.wikipedia.org/wiki/Shooting_method</a>.\n",
    "</p>\n",
    "For the specific example of the one-dimensional time-independent Schrodinger equation with a quantum well potential, we know that the wavefunction will converge to zero at both the far left and right boundaries in order for the wavefunction to be normalizable (i.e. $\\psi(x_{\\pm \\infty})=0$). \n",
    "    By keeping the boundary value at the left hand side equal to zero, one can try different eigenvalues of the Schrödinger equation and obtain the\n",
    "    corresponding eigenfunctions (by means of a numerical integrator such as the Numerov algorithm discussed below). Only the true eigenvalue will result in the solution\n",
    "    wavefunction converging to zero at the right hand side. By scanning over the possible trial energies and monitoring the\n",
    "    solution wavefunction at the right hand boundary, we can find all allowed eigenvalues and their corresponding wavefunctions. This \n",
    "    numerical method is referred to as the shooting method. Through its use can obtain the eigenvalues and eigenfunctions of the Schrödinger equation for this 1D quantum well."
   ]
  },
  {
   "cell_type": "markdown",
   "id": "de09fcbb-8517-43c7-a7d0-527faea70af4",
   "metadata": {},
   "source": [
    "# **Numerical integration and the Numerov algorithm**\n",
    "\n",
    "The time-independent Schrödinger equation is an ordinary differential equation (ODE) of second order, where the 1st-order term does not appear in the equation, i.e. it assumes the following structure: \n",
    "$\\large  \\dfrac{d^2 y}{d x^{2}} = -g(x)y(x) + s(x)$\n",
    "\n",
    "<p style=\"text-align: justify;font-size:15px\"> \n",
    "In the particular case of the time-independent Schrödinger equation, we have:   \n",
    "</p>\n",
    "\n",
    "$\\large \\left[\n",
    "  -\\dfrac{\\hslash^2}{2m} \\, \\dfrac{\\partial^2}{\\partial x^{2}} + V(x)\\right] \\psi(x) = E\\psi(x)$ (1)\n",
    "  \n",
    "and so $g(x)= \\frac{2m}{\\hslash^2}(E-V(x))$ and $s(x)=0$.\n",
    "<p style=\"text-align: justify;font-size:15px\"> \n",
    "For a one dimensional system, the second-derivative can be evaluated numerically via the following formula \n",
    "</p>\n",
    "\n",
    "$\\large \\psi ''(x_{i})= \\dfrac{1}{\\delta x^2}\\left[ \\psi(x_{i+1})-2\\psi(x_i)+\\psi(x_{i-1}) \\right]$ (2)\n",
    "\n",
    "where $x_i$ gives the position at the i-th point on a discretized grid of $i=1,...,N$ points representing space in the x-dimension and $\\delta x = x_{i+1}-x_{i}$ is the grid spacing.  \n",
    "\n",
    "Substituting equation 2 into equation 1, we can create an iterative procedure for generating the wavefunction $\\psi(x)$: \n",
    "\n",
    "$\\large \\psi(x_{i+1}) =\\delta x^2 \\psi ''(x_{i}) +2\\psi(x_i)-\\psi(x_{i-1}) = -\\dfrac{2m \\delta x^2}{\\hslash^2} \\left[E-V(x_i)\\right]\\psi(x_i) +2\\psi(x_i)-\\psi(x_{i-1})$\n",
    "\n",
    "I.e. if we know the value of $\\psi$ at two preceding points $x_i$ and $x_{i-1}$, then we can obtain the value of $\\psi$ at the next point $x_{i+1}$. Carrying this out for all values of $i$, we obtain our solution wavefunction.\n",
    "\n",
    "<p style=\"text-align: justify;font-size:15px\">\n",
    "    However, the values of the first two starting points are unknown. \n",
    "    For the square well potential shown in the interactive notebook, we can assume $\\psi(x_0)$ is zero and $\\psi(x_1)$\n",
    "    is a very small positive (or negative) number. See task 4 in the interactive notebook for further discussion of the issue of initial conditions.\n",
    "    \n",
    "There are occasions where the above approximation to the derivative is simply not accurate enough for the problem at hand. In this case, higher-order approximations must be employed.    \n",
    " The Numerov method is one such higher-order method. It is used to specifically solve the kind of \n",
    "    ODE which has a form like that of the time-independent Schrödinger equation, i.e., one having the form $\\dfrac{d^2 y}{d x^{2}} = -g(x)y(x) + s(x)$. The method capitalizes on this particular form to approximate the solution to order $O((\\delta x)^6)$, where $\\delta x$ is the step size for the integration. The method works by allowing one to relate the value of the solution at a given point on a discretized grid representing space, $y_{n+1}$, to the two previous points, $y_n$ and $y_{n-1}$, through the relationship:\n",
    "\n",
    "$\\large y_{n+1}\\left(1+{\\frac {(\\delta x)^{2}}{12}}g_{n+1}\\right)=2y_{n}\\left(1-{\\frac {5(\\delta x)^{2}}{12}}g_{n}\\right)-y_{n-1}\\left(1+{\\frac {(\\delta x)^{2}}{12}}g_{n-1}\\right)+{\\frac {(\\delta x)^{2}}{12}}(s_{n+1}+10s_{n}+s_{n-1})+O((\\delta x)^{6})$ \n",
    "    \n",
    "where $s_n = s(x_n)$ and $g_n = g(x_n)$.\n",
    "\n",
    "\n",
    "See https://en.wikipedia.org/wiki/Numerov's_method for a detailed derivation of the method. "
   ]
  }
 ],
 "metadata": {
  "kernelspec": {
   "display_name": "Python 3 (ipykernel)",
   "language": "python",
   "name": "python3"
  },
  "language_info": {
   "codemirror_mode": {
    "name": "ipython",
    "version": 3
   },
   "file_extension": ".py",
   "mimetype": "text/x-python",
   "name": "python",
   "nbconvert_exporter": "python",
   "pygments_lexer": "ipython3",
   "version": "3.11.0"
  }
 },
 "nbformat": 4,
 "nbformat_minor": 5
}
