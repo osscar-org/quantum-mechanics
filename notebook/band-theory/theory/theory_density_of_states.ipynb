{
 "cells": [
  {
   "cell_type": "markdown",
   "id": "d1040f84-5c1e-4999-b809-a0481837847c",
   "metadata": {},
   "source": [
    "# **Background Theory**: The Electronic Density of States\n",
    "\n",
    "<i class=\"fa fa-book fa-2x\"></i><a href=\"../density_of_states.ipynb\" style=\"font-size: 20px\"> Go back to the interactive notebook</a>\n",
    "\n",
    "**Source code:** https://github.com/osscar-org/quantum-mechanics/blob/master/notebook/band-theory/theory/theory_density_of_states.ipynb\n",
    "\n",
    "<hr style=\"height:1px;border:none;color:#cccccc;background-color:#cccccc;\" />"
   ]
  },
  {
   "cell_type": "markdown",
   "id": "a2ce0a4f-c40c-4b8c-a696-8bdd070d2c07",
   "metadata": {},
   "source": [
    "## **Introduction**\n",
    "\n",
    "The density of states (DOS) gives a measure of the number of electronic states with values of energy in some interval around a reference value. To be more specific, given a value of electronic energy $E$, the density of states $D(E)$ is defined as $N(E)=D(E)\\delta E$ where $N(E)$ is the number of electronic states with energies falling in the interval $[E,E+\\delta E]$. In the accompanying interactive notebook, we present the density of states (DOS) of the three-dimensional free electron model. The free electron \n",
    "model is a simple way to describe the electrons in metal systems (see the [corresponding notebook](./theory_free_electron.ipynb)). \n",
    "\n",
    "The Schrödinger equation of the free electron model can be solved analytically. Furthermore, we \n",
    "can obtain the analytical solution for the DOS of the free electron model. We\n",
    "demonstrate three different methods which can be employed to calculate the density of\n",
    "states (DOS). The methods are: the simple histogram method, Gaussian smearing, and linear tetrahedron interpolation (\"tetrahedra\" or LTI)."
   ]
  },
  {
   "cell_type": "markdown",
   "id": "0cb68a56-015a-4ba1-9bfb-797f3be9d14e",
   "metadata": {},
   "source": [
    "## **Free electron model (3D)**\n",
    "\n",
    "In the free electron model, the electrons move \"freely\" without any \n",
    "potential ($V=0$). The eigenfunctions of the Schrödinger equation for \n",
    "free electrons are (apart for normalization):\n",
    "    \n",
    "$$\\large \\psi(\\vec{r}) = e^{i\\vec{k} \\vec{r}}$$\n",
    "\n",
    "The dispersion is:\n",
    "\n",
    "$$\\large E = \\frac{\\hbar^2k^2}{2m}$$\n",
    "\n",
    "where, $k = k_x + k_y + k_z$. From the dispersion, one can see that the \n",
    "energy isosurface is a sphere in the reciprocal space (k-space) as shown in \n",
    "the interactive figure. Hence, the number of states for a given wavevector \n",
    "$k$ is calculated by constructing a spherical shell of radius $k$ and \n",
    "thickness $dk$. The volume of this spherical shell is $4\\pi k^2dk$. The \n",
    "formula of the DOS can be de derived as:\n",
    "\n",
    "$$\\large D(E) = \\frac{V}{2\\pi^2}(\\frac{2m}{\\hbar})^{\\frac{3}{2}}\\sqrt{E}$$\n",
    "\n",
    "where V is the total volume. One can see that the DOS is proportional to\n",
    "$\\sqrt{E}$. Please read more at the \n",
    "[Wikipedia](https://en.wikipedia.org/wiki/Free_electron_model)."
   ]
  },
  {
   "cell_type": "markdown",
   "id": "15843b53-b689-4030-8e9a-97cfca408d42",
   "metadata": {},
   "source": [
    "## **Density of states (DOS)**\n",
    "\n",
    "The density of states (DOS) is the density of available electronic states per \n",
    "unit volume and energy, which is defined as:\n",
    "\n",
    "$$\\large D(E)=\\frac{1}{V}\\sum_{n,\\vec k}\\delta(E-E_{n\\vec k})$$\n",
    "\n",
    "where $V$ is the volume, $\\delta$ is a Dirac's delta, $E_{n\\vec k} = E_n(\\vec k)$ \n",
    "is the energy for the n-th band at k-point $\\vec k$, and the sum is over all \n",
    "band $n$ and all k-vectors $\\vec k$.\n",
    "\n",
    "The simplest approximation to $D(E)$ is obtained by considering a finite number \n",
    "of k points on a regular grid, dividing the energy range in small bins, and \n",
    "computing a histogram of the energies obtained on the finite k-point grid. \n",
    "The resulting histogram is an approximation to the density of states \n",
    "(after appropriate normalization). However, the approximation is quite crude \n",
    "unless the number of k-points is very large, and the bin size on the energy \n",
    "axis is chosen appropriately.\n",
    "\n",
    "To improve the results, one can \"smear\" the histogram, e.g. instead of simply\n",
    "accumulating elements into bins, we can sum Gaussian functions centered at \n",
    "the energy $E(k_i)$, with a fixed standard deviation $\\sigma$.\n",
    "This method is called Gaussian smearing, which makes the DOS curve \n",
    "much smoother than a simple histogram already for relatively coarse k-grids. \n",
    "However, this method introduces some error when trying to estimate the \n",
    "position of band edges from the DOS (with an error of the order of $\\sigma$).\n",
    "Mathematically, the DOS is approximated by the following expression:\n",
    "\n",
    "$$\\large D(E)=\\sum_{n,\\vec k}\\frac{1}{\\sigma\\sqrt{2\\pi}}e^{-\\frac{(x-E_{n\\vec k})^2}{2\\sigma^2}}$$\n",
    "    \n",
    "Finally, the third method we describe here is the\n",
    "linear tetrahedron interpolation (LTI). In this method, the volume in \n",
    "reciprocal space is split into small tetrahedra. The energy at each corner \n",
    "is computed similarly to the previous case. Typically, a regular grid is chosen \n",
    "also in this case, and each small volume - that typically has a shape of a cube or, \n",
    "more generally, a parallelepiped - is split into tetrahedra: the image below (Figure 1) \n",
    "demonstrates how to split a cubic reciprocal space volume into six tetrahedra.\n",
    "\n",
    "<div style=\"text-align:center\">\n",
    "  <img src=\"../images/LTI.png\" alt=\"Linear tetrahedron interpolation\" class=\"image\" style=\"width:500px;\">\n",
    "  <figcaption>Figure 1. A scheme of linear tetrahedron interpolation (image adpoted from \n",
    "    <a href=\"http://www.physics.okayama-u.ac.jp/jeschke_homepage/CMSST2016/chapter1.pdf\">this PDF file</a>)\n",
    "  </figcaption>\n",
    "</div>\n",
    "\n",
    "Then, the method assumes that, within a tetrahedron, the energy behaves \n",
    "linearly; therefore a linear interpolation is employed to obtain the value \n",
    "of the energy in any point inside the tetrahedron, knowing the values of \n",
    "the energy at its fours corners. Thanks to this, it is possible to calculate \n",
    "much more accurately the portion of the volume of each tetrahedron that is \n",
    "above or below a given energy, making the resulting DOS much more accurate \n",
    "than a simple histogram obtained from the value of the energy at its four corners."
   ]
  },
  {
   "cell_type": "code",
   "execution_count": null,
   "id": "b66693b7-a18c-4519-842e-f4d4818bae78",
   "metadata": {},
   "outputs": [],
   "source": []
  }
 ],
 "metadata": {
  "kernelspec": {
   "display_name": "Python 3 (ipykernel)",
   "language": "python",
   "name": "python3"
  },
  "language_info": {
   "codemirror_mode": {
    "name": "ipython",
    "version": 3
   },
   "file_extension": ".py",
   "mimetype": "text/x-python",
   "name": "python",
   "nbconvert_exporter": "python",
   "pygments_lexer": "ipython3",
   "version": "3.10.12"
  }
 },
 "nbformat": 4,
 "nbformat_minor": 5
}
