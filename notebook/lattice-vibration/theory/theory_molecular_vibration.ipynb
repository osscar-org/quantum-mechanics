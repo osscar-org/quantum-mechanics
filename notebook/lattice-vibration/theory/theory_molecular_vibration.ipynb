{
 "cells": [
  {
   "cell_type": "markdown",
   "metadata": {},
   "source": [
    "# **Background theory**: Introduction to molecular vibrations\n",
    "\n",
    "<i class=\"fa fa-book fa-2x\"></i><a href=\"../Molecule_Vibration.ipynb\" style=\"font-size: 20px\"> Go back to the interactive notebook</a>\n",
    "\n",
    "**Source code:** https://github.com/osscar-org/quantum-mechanics/tree/develop/notebook/lattice-vibration/theory/theory_molecular_vibration.ipynb\n",
    "\n",
    "<hr style=\"height:1px;border:none;color:#cccccc;background-color:#cccccc;\" />"
   ]
  },
  {
   "cell_type": "code",
   "execution_count": 1,
   "metadata": {},
   "outputs": [
    {
     "data": {
      "application/javascript": [
       "MathJax.Hub.Config({\n",
       "    TeX: { equationNumbers: { autoNumber: \"AMS\" } }\n",
       "});\n"
      ],
      "text/plain": [
       "<IPython.core.display.Javascript object>"
      ]
     },
     "metadata": {},
     "output_type": "display_data"
    }
   ],
   "source": [
    "# %%javascript\n",
    "# MathJax.Hub.Config({\n",
    "#     TeX: { equationNumbers: { autoNumber: \"AMS\" } }\n",
    "# });"
   ]
  },
  {
   "cell_type": "markdown",
   "metadata": {},
   "source": [
    "## **Dynamical matrix**\n",
    "\n",
    "The Newton's equation of motion may be written in the Lagrangian formalism as :\n",
    "\\begin{equation}\n",
    "    \\frac{d}{dt}\\frac{\\partial\\mathcal{L}}{\\partial \\dot{q_j}}-\\frac{\\partial \\mathcal{L}}{\\partial q_k}=0 \\qquad (1)\n",
    "\\end{equation}\n",
    "where\n",
    "\\begin{equation}\n",
    "    \\mathcal{L}=K-V\n",
    "    \n",
    "\\end{equation}\n",
    "with $K$ the kinetic energy and $V$ the potential energy of the system.\n",
    "In the case of small vibrations $\\Delta x_i, \\Delta y_i, \\Delta z_i$ of an atom, the kinetic term is described by:\n",
    "\\begin{equation}\n",
    "    K=\\frac{1}{2} \\sum_{i=1}^{N} M_{i}\\left[\\left(\\frac{d \\Delta x_{i}}{d t}\\right)^{2}+\\left(\\frac{d \\Delta y_{i}}{d t}\\right)^{2}+\\left(\\frac{d \\Delta z_{i}}{d t}\\right)^{2}\\right]\n",
    "\\end{equation}\n",
    "<br>\n",
    "In mass-weighted coordinates, such as $q_{1}=\\sqrt{M_{1}} \\Delta x_{1}$, $q_{2}=\\sqrt{M_{1}} \\Delta y_{1}, q_{3}=\\sqrt{M_{1}} \\Delta z_{1}, q_{4}=\\sqrt{M_{2}} \\Delta x_{2}$, etc., the kinetic energy operator becomes simpler since the mass factors are now absorbed :\n",
    "\\begin{equation}\n",
    "    K=\\frac{1}{2} \\sum_{i=1}^{3 N} \\dot{q}_{i}^{2} \\qquad (2)\n",
    "\\end{equation}\n",
    "The potential energy ca be expended as:\n",
    "\\begin{equation}\n",
    "    V=V_{0}+\\sum_{i=1}^{3 N}\\left(\\frac{\\partial V}{\\partial q_{i}}\\right)_{0} q_{i}+\\frac{1}{2} \\sum_{i=1}^{3 N}\\left(\\frac{\\partial^{2} V}{\\partial q_{i} \\partial q_{j}}\\right)_{0} q_{i} q_{j}+\\cdots \\qquad (3)\n",
    "\\end{equation}\n",
    "At equilibrium $\\left.\\frac{\\partial V}{\\partial q_i}\\right|_{0}=0$. Since $V_0$ is arbitrary, it can be set to 0. For further readability, $\\left(\\partial^{2} V / \\partial q_{i} \\partial q_{j}\\right)_{0}$ will be abbreviated as $f_{i j}$. $f_{i j}$ can be interpreted as the force acting on atom $j$ from a small displacement of atom $i$.\n",
    "<br>\n",
    "Eq.2 and Eq.3 are then inserted into Eq.1 :\n",
    "\\begin{equation}\n",
    "    \\frac{d}{d t} \\frac{\\partial T}{\\partial \\dot{q}_{j}}+\\frac{\\partial V}{\\partial q_{j}}=0 \\quad j=1,2, \\cdots, 3 N\n",
    "\\end{equation}\n",
    "\\begin{equation}\n",
    "    \\ddot{q}_{j}+\\sum_{i=1}^{3 N} f_{i j} q_{i}=0 \\quad j=1,2, \\cdots, 3 N\n",
    "\\end{equation}\n",
    "A possible solution to this equation is:\n",
    "\\begin{equation}\n",
    "    q_{i}=a_{i} \\cos (\\omega t+\\phi)\n",
    "\\end{equation}\n",
    "which substituted into the last set of differential equations gives:\n",
    "\\begin{equation}\n",
    "    \\sum_{i=1}^{3 N}\\left(f_{i j}-\\delta_{i j} \\omega^2\\right) a_{i}=0 \\quad j=1,2, \\cdots, 3 N\n",
    "\\end{equation}\n",
    "or in matrix notation, $\\mathbf{F}\\mathbf{a}=\\omega^2 \\mathbf{a}$. We therefore end with an eigenvalue problem with $3N$ linear equations. Solutions exist if the secular determinant is zero:\n",
    "<br>\n",
    "$$\n",
    "    \\left|\\begin{array}{lllll}\n",
    "        f_{1,1}-\\omega^2 & f_{1,2}          & f_{1,3}     & \\cdots & f_{1,3 N}             \\\\\n",
    "        f_{2,1}          & f_{2,2}-\\omega^2 & f_{2,3}     & \\cdots & f_{2,3 N}             \\\\\n",
    "        \\vdots          & \\vdots          & \\vdots     & \\vdots & \\vdots                \\\\\n",
    "        f_{3 N, 1}      & f_{3 N, 2}      & f_{3 N, 3} & \\cdots & f_{3 N, 3 N}-\\omega^2\n",
    "    \\end{array}\\right|=0 .\n",
    "$$<br>\n",
    "Knowing the eigenvalues $\\omega_k$, the corresponding eigenvectors $\\mathbf{a}_k$ are obtained, which described the motion of each atom:\n",
    "$$q_{ik}=a_{ik}\\cos(\\omega_k t+\\phi_k ) .$$\n",
    "The eigenvectors $\\mathbf{a}_k$ describe the relative atomic displacement amplitude for a given normal mode of vibrations. For each normal mode, all atoms move at the same frequency but with a different amplitude."
   ]
  },
  {
   "cell_type": "markdown",
   "metadata": {},
   "source": [
    "## **Finite differences for elastic constant evaluation**\n",
    "Until yet, an analytical form of the potential has not been given. Simple pair-potential such as the Lennard-Jones or Morse ones may be used, but would not provide good results in a molecular setting. However, if more complex potential forms are used, an analytical derivation of the second derivative potential energy becomes tedious or impossible to perform. The second derivative must then be computed numerically using finite differences:\n",
    "\\begin{equation}\n",
    "    \\frac{\\partial^{2} V}{\\partial x_{i} \\partial y_{j}} \\approx\\left[\\left.\\left(\\frac{\\partial V}{\\partial y_{j}}\\right)\\right|_{x_{i}=x_{i 0}+\\Delta x_{i}}-\\left.\\left(\\frac{\\partial V}{\\partial y_{j}}\\right)\\right|_{x_{i}=x_{i 0}-\\Delta x_{i}}\\right] / 2 \\Delta x_{i} .\n",
    "\\end{equation}\n",
    "Since $F_{x_i}=-\\frac{\\partial V}{\\partial x_i}$, we obtain:\n",
    "\\begin{equation}\n",
    "    \\frac{\\partial^{2} V}{\\partial x_{i} \\partial y_{j}} \\approx\\left[\\left.\\left(-F_{y_i}\\right)\\right|_{x_{i}=x_{i 0}+\\Delta x_{i}}-\\left.\\left( -F_{y_i}\\right)\\right|_{x_{i}=x_{i 0}-\\Delta x_{i}}\\right] / 2 \\Delta x_{i} .\n",
    "\\end{equation}"
   ]
  },
  {
   "cell_type": "markdown",
   "metadata": {},
   "source": [
    "## **Vibrational energy and frequency**\n",
    "Within the harmonic treatment of vibrational motion, the energy of a vibrational mode $k$ is given by :\n",
    "\\begin{equation}\n",
    "    E(\\omega_k)=\\hbar \\omega_k\\left(n+\\frac{1}{2}\\right)\\quad n=0,1,2,\\cdots\n",
    "\\end{equation}\n",
    "The frequency can  be linked to an electromagnetic wave wavelength $\\lambda$ with the relation\n",
    "\\begin{equation}\n",
    "    f=\\frac{c}{\\lambda}\n",
    "\\end{equation}\n",
    "which tells us which wavelength may excite the molecule to higher vibrational energy states."
   ]
  },
  {
   "cell_type": "markdown",
   "metadata": {
    "hide_input": false
   },
   "source": [
    "### **Further references**\n",
    "E. B. Wilson, J. C. Decius, and P. C. Cross, Molecular vibrations: the theory of infrared and Raman vibrational spectra. New York: Dover Publications, 1980."
   ]
  }
 ],
 "metadata": {
  "hide_input": false,
  "kernelspec": {
   "display_name": "Python 3 (ipykernel)",
   "language": "python",
   "name": "python3"
  },
  "language_info": {
   "codemirror_mode": {
    "name": "ipython",
    "version": 3
   },
   "file_extension": ".py",
   "mimetype": "text/x-python",
   "name": "python",
   "nbconvert_exporter": "python",
   "pygments_lexer": "ipython3",
   "version": "3.10.12"
  }
 },
 "nbformat": 4,
 "nbformat_minor": 4
}
