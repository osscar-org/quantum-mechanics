{
 "cells": [
  {
   "cell_type": "markdown",
   "id": "d72543de-ca9d-4b40-889d-1c6dece891a0",
   "metadata": {},
   "source": [
    "# **Background Theory**: Free-Electron Bands in a Periodic Lattice\n",
    "\n",
    "<i class=\"fa fa-book fa-2x\"></i><a href=\"../free_electron.ipynb\" style=\"font-size: 20px\"> Go back to the interactive notebook</a>\n",
    "\n",
    "**Source code:** https://github.com/osscar-org/quantum-mechanics/blob/master/notebook/band-theory/theory/theory_free_electron.ipynb\n",
    "\n",
    "<hr style=\"height:1px;border:none;color:#cccccc;background-color:#cccccc;\" />"
   ]
  },
  {
   "cell_type": "markdown",
   "id": "c7207e6b-da14-4c6e-9892-7d2ee814016a",
   "metadata": {},
   "source": [
    "## **Introduction**\n",
    "   \n",
    "This notebook gives a brief overview of the empty lattice approximation (free-electron model) of electrons in a metallic solid."
   ]
  },
  {
   "cell_type": "markdown",
   "id": "f43c78c4-ef48-4b28-a5e8-b5264d4b484a",
   "metadata": {},
   "source": [
    "## Empty lattice approximation\n",
    "\n",
    "In the empty lattice approximation, the electrons move \"freely\" in a weak, periodic potential. Electron-electron interactions are neglected.\n",
    "The eigenfunctions of the Schrödinger equation for free electrons are: \n",
    "\n",
    "$$\\large \\psi(\\vec{r}) = e^{i\\vec{k} \\cdot \\vec{r}}$$   \n",
    "\n",
    "When $\\vec{k}$ lies outside the 1st Brillouin zone, the plane wave \n",
    "can be written as:\n",
    "    \n",
    "$$\\large \\psi(\\vec{r}) = e^{i\\vec{k}\\cdot \\vec{r}}e^{i\\vec{G} \\cdot\\vec{r}} = e^{i(\\vec{k}+\\vec{G})\\cdot \\vec{r}}$$   \n",
    "    \n",
    "where $\\vec{k}$ vector is inside the first Brillouin zone and $\\vec{G}$ \n",
    "is a reciprocal lattice vector. The dispersion is:\n",
    "   \n",
    "$$\\large E = \\frac{\\hbar^2(\\vec{k}+\\vec{G})^2}{2m}$$\n",
    "\n",
    "You can read more about this model on [Wikipedia](https://en.wikipedia.org/wiki/Empty_lattice_approximation)."
   ]
  },
  {
   "cell_type": "markdown",
   "id": "56c3c1ed-1883-4307-a2c8-545bfaa46ef6",
   "metadata": {},
   "source": [
    "## Electronic band structure\n",
    "\n",
    "In solid-state physics, the electronic band structure of a solid characterizes the quantum-mechanical behavior of electrons.\n",
    "\n",
    "\"Band theory derives these bands and band gaps by examining the allowed quantum mechanical wave functions for an electron in a large, periodic lattice of atoms or molecules. Band theory has been successfully used to explain many physical properties of solids, such as electrical resistivity\n",
    "and optical absorption, and forms the foundation of the understanding of \n",
    "all solid-state devices (transistors, solar cells, etc.).\" - from \n",
    "[Wikipedia](https://en.wikipedia.org/wiki/Electronic_band_structure).\n",
    " \n",
    "<div style=\"text-align:center\">\n",
    "<image src=\"../images/electronic_band_structure.svg\" width=\"500\"></image>\n",
    "<figcaption>Figure 1. Demonstration of formation of the electronic\n",
    "    band structure. Adpoted from Wikipedia</figcaption>\n",
    "</div>\n",
    "    \n",
    "Molecular diagrams can represent the discrete energy levels in\n",
    "molecular systems. In contrast, solid-state systems always have a macroscopic number of orbitals present. This leads to the energy levels merging together and forming a continuum. Hence, the energy levels in solid are considered to be continuous energy bands.\n",
    "\n",
    "Since the wavevector is three dimensional, having components $k_x$, $k_y$ and $k_z$, \n",
    "it is difficult to plot the bands as a function of the wavevector. Therefore, the energy bands are typically plotted along straight lines, connecting high symmetry points of the Brillouin zone (see, e.g. Figure 2).\n",
    "\n",
    "<div style=\"text-align:center\">\n",
    "<image src=\"../images/1st_brillouin_zone.svg\" width=\"250\"></image>\n",
    "<figcaption>Figure 2. Illustration of the 1st Brillouin zone and its\n",
    "    high symmetry points. Adpoted from Wikipedia.</figcaption>\n",
    "</div>"
   ]
  },
  {
   "cell_type": "code",
   "execution_count": null,
   "id": "db7cb8f5-7e7c-4785-9baa-1a93fce6bbe1",
   "metadata": {},
   "outputs": [],
   "source": []
  }
 ],
 "metadata": {
  "kernelspec": {
   "display_name": "Python 3 (ipykernel)",
   "language": "python",
   "name": "python3"
  },
  "language_info": {
   "codemirror_mode": {
    "name": "ipython",
    "version": 3
   },
   "file_extension": ".py",
   "mimetype": "text/x-python",
   "name": "python",
   "nbconvert_exporter": "python",
   "pygments_lexer": "ipython3",
   "version": "3.10.12"
  }
 },
 "nbformat": 4,
 "nbformat_minor": 5
}
