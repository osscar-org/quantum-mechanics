{
 "cells": [
  {
   "cell_type": "markdown",
   "id": "309346c1",
   "metadata": {},
   "source": [
    "# **Background Theory**: Monte Carlo Simulations to Sample the Canonical Distribution\n",
    "\n",
    "<i class=\"fa fa-book fa-2x\"></i><a href=\"../monte_carlo_parabolic.ipynb\" style=\"font-size: 20px\"> Go back to the interactive notebook</a>\n",
    "\n",
    "**Source code:** https://github.com/osscar-org/quantum-mechanics/blob/master/notebook/band-theory/theory/theory_monte_carlo_parabolic.ipynb\n",
    "\n",
    "<hr style=\"height:1px;border:none;color:#cccccc;background-color:#cccccc;\" />"
   ]
  },
  {
   "cell_type": "markdown",
   "id": "0df3c694",
   "metadata": {},
   "source": [
    "<summary style=\"font-size: 20px\"><b>Monte Carlo simulations and the Metropolis-Hastings algorithm</b></summary>\n",
    "Monte Carlo simulations are often used to sample the canonical distribution (at a given temperature), given a potential energy surface.    \n",
    "The Metropolis-Hastings algorithm is one of the most popular sampling algorithms to generate a sequence of states.\n",
    "The sequence can be used to approximate the distribution and to calculate averages (e.g. the expected value of some observable at a given temperature).<br>\n",
    "\n",
    "The Metropolis-Hastings algorithm is initialized by choosing (e.g., randomly) an initial state $x_0$ at $t=0$.\n",
    "Then, at each iteration:\n",
    "<ol>    \n",
    "  <li>We generate a new state $x'$ from a random distribution. In our example, we will consider a two-dimensional space, and move by a random amount along each of the two coordinates, where the random amount will be within a range $[-\\eta, \\eta]$ where $\\eta$ is the \"max move size\" that you can tune in the simulation.</li>\n",
    "  <li>We compute the energy of the new state.</li>\n",
    "  <ol>\n",
    "    <li>If the new state is lower in energy than the previous one, we accept it: $x_{t+1} = x'$;</li>\n",
    "    <li>If the new state is higher in energy than the previous one, accept it with a probability $\\delta = e^{-(E_{new} - E_{old})/(k_B T)}$ (then $x_{t+1} = x'$), otherwise reject it and store the old state ($x_{t+1} = x_t$);</li>\n",
    "    <li>In order to decide whether to accept or reject the state, we generate a random number $\\mu$ from a uniform distribution between [0, 1], and accept the move if $\\mu < \\delta$.</li>\n",
    "  </ol>\n",
    "  <li>We update the step index ($t \\rightarrow t+1$) and iterate until a given number of iterations is reached.</li>\n",
    "</ol>\n",
    "\n",
    "Note how we have two points in the algorithm where we generate random numbers: to generate a random move, and to decide whether to accept or reject a move with a given probability.\n",
    "    \n",
    "    \n",
    "A more in-depth description of the algorithm is given in \"<a href=\"https://www.elsevier.com/books/understanding-molecular-simulation/frenkel/978-0-12-267351-1\">Understanding molecular simulation: from algorithms to applications (Daan Frenkel and Berend Smit, Elsevier, 2001)</a>.\" "
   ]
  },
  {
   "cell_type": "code",
   "execution_count": null,
   "id": "932b7ede",
   "metadata": {},
   "outputs": [],
   "source": []
  }
 ],
 "metadata": {
  "kernelspec": {
   "display_name": "Python 3",
   "language": "python",
   "name": "python3"
  },
  "language_info": {
   "codemirror_mode": {
    "name": "ipython",
    "version": 3
   },
   "file_extension": ".py",
   "mimetype": "text/x-python",
   "name": "python",
   "nbconvert_exporter": "python",
   "pygments_lexer": "ipython3",
   "version": "3.8.11"
  }
 },
 "nbformat": 4,
 "nbformat_minor": 5
}
